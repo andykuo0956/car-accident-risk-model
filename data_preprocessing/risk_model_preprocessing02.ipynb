{
 "cells": [
  {
   "cell_type": "code",
   "execution_count": 8,
   "metadata": {},
   "outputs": [],
   "source": [
    "import pandas as pd\n",
    "import geopandas as gpd\n",
    "import re\n",
    "import glob"
   ]
  },
  {
   "cell_type": "code",
   "execution_count": 3,
   "metadata": {},
   "outputs": [],
   "source": [
    "pd.set_option(\"display.max_columns\", None)"
   ]
  },
  {
   "attachments": {},
   "cell_type": "markdown",
   "metadata": {},
   "source": [
    "## 開啟並合併 A2 raw data"
   ]
  },
  {
   "cell_type": "code",
   "execution_count": 13,
   "metadata": {},
   "outputs": [
    {
     "name": "stdout",
     "output_type": "stream",
     "text": [
      "              發生日期   死亡受傷人數 當事者區分-類別-大類別名稱-車種 當事者區分-類別-子類別名稱-車種   當事者屬-性-別名稱  \\\n",
      "0       20220901.0  死亡0;受傷1               小客車                自用            男   \n",
      "1       20220901.0  死亡0;受傷1               小客車                自用            男   \n",
      "2       20220901.0  死亡0;受傷1               小客車                自用            女   \n",
      "3       20220901.0  死亡0;受傷1                機車              普通重型            男   \n",
      "4       20220901.0  死亡0;受傷1               NaN               NaN  無或物(動物、堆置物)   \n",
      "...            ...      ...               ...               ...          ...   \n",
      "559739  20220630.0  死亡0;受傷3                機車              普通重型            男   \n",
      "559740  20220630.0  死亡0;受傷3                機車              普通重型            男   \n",
      "559741  20220630.0  死亡0;受傷3                 人                乘客            男   \n",
      "559742         NaN      NaN               NaN               NaN          NaN   \n",
      "559743         NaN      NaN               NaN               NaN          NaN   \n",
      "\n",
      "                經度         緯度  \n",
      "0       120.445980  22.477609  \n",
      "1       120.445980  22.477609  \n",
      "2       120.445980  22.477609  \n",
      "3       120.583002  24.051588  \n",
      "4       120.583002  24.051588  \n",
      "...            ...        ...  \n",
      "559739  121.617878  25.065808  \n",
      "559740  121.617878  25.065808  \n",
      "559741  121.617878  25.065808  \n",
      "559742         NaN        NaN  \n",
      "559743         NaN        NaN  \n",
      "\n",
      "[559744 rows x 7 columns]\n"
     ]
    }
   ],
   "source": [
    "# 設定要讀取的欄位\n",
    "cols_to_keep = [\"發生日期\", \"當事者區分-類別-大類別名稱-車種\", \"當事者區分-類別-子類別名稱-車種\", \"當事者屬-性-別名稱\", \"死亡受傷人數\", \"經度\", \"緯度\"]\n",
    "\n",
    "# 建立一個空的 DataFrame\n",
    "A2_raw_data_2022 = pd.DataFrame()\n",
    "\n",
    "# 使用 glob 模組來搜尋所有 csv 檔案\n",
    "for filename in glob.glob('/Users/guoyanting/Desktop/NTUDAC/專案/Gogoro/rawData/traffic_accident/03_A1A2交通事故統計資料/2022_傷亡道路交通事故資料/111年度A2交通事故資料_*.csv'):\n",
    "    \n",
    "    # 讀取特定欄位\n",
    "    data = pd.read_csv(filename, usecols=cols_to_keep)\n",
    "    \n",
    "    # 將讀取到的資料加到 A2_raw_data_2022 DataFrame 中\n",
    "    A2_raw_data_2022 = pd.concat([A2_raw_data_2022, data], ignore_index=True)\n",
    "\n",
    "# 輸出結果\n",
    "print(A2_raw_data_2022)"
   ]
  },
  {
   "cell_type": "code",
   "execution_count": 11,
   "metadata": {},
   "outputs": [],
   "source": [
    "# 設定要讀取的欄位\n",
    "cols_to_keep = [\"發生日期\", \"當事者區分-類別-大類別名稱-車種\", \"當事者區分-類別-子類別名稱-車種\", \"當事者屬-性-別名稱\", \"死亡受傷人數\", \"經度\", \"緯度\"]\n",
    "\n",
    "# 建立一個空的 DataFrame\n",
    "A2_raw_data = pd.DataFrame()\n",
    "\n",
    "year_list = [\"2018\",\"2019\",\"2020\",\"2021\",\"2022\"]\n",
    "\n",
    "for year in year_list:\n",
    "    # 使用 glob 模組來搜尋所有 csv 檔案\n",
    "    for filename in glob.glob('/Users/guoyanting/Desktop/NTUDAC/專案/Gogoro/rawData/traffic_accident/03_A1A2交通事故統計資料/'+year+'_傷亡道路交通事故資料/'+year+'年度A2交通事故資料_*.csv'):\n",
    "        \n",
    "        # 讀取特定欄位\n",
    "        data = pd.read_csv(filename, usecols=cols_to_keep)\n",
    "        \n",
    "        # 將讀取到的資料加到 A2_raw_data DataFrame 中\n",
    "        A2_raw_data = pd.concat([A2_raw_data, data], ignore_index=True)"
   ]
  },
  {
   "cell_type": "code",
   "execution_count": 14,
   "metadata": {},
   "outputs": [],
   "source": [
    "A2_raw_data = pd.concat([A2_raw_data, A2_raw_data_2022], ignore_index=True)"
   ]
  },
  {
   "cell_type": "code",
   "execution_count": 18,
   "metadata": {},
   "outputs": [],
   "source": [
    "A2_raw_data = A2_raw_data.dropna(subset=[\"發生日期\"])"
   ]
  },
  {
   "attachments": {},
   "cell_type": "markdown",
   "metadata": {},
   "source": [
    "## 清理與整理 A2 raw data"
   ]
  },
  {
   "cell_type": "code",
   "execution_count": 19,
   "metadata": {},
   "outputs": [],
   "source": [
    "A2_data = A2_raw_data"
   ]
  },
  {
   "cell_type": "code",
   "execution_count": 20,
   "metadata": {},
   "outputs": [
    {
     "name": "stderr",
     "output_type": "stream",
     "text": [
      "/var/folders/6d/ds7n9s6d4hg1t4dlgvtpv97w0000gn/T/ipykernel_18543/1419529913.py:1: SettingWithCopyWarning: \n",
      "A value is trying to be set on a copy of a slice from a DataFrame.\n",
      "Try using .loc[row_indexer,col_indexer] = value instead\n",
      "\n",
      "See the caveats in the documentation: https://pandas.pydata.org/pandas-docs/stable/user_guide/indexing.html#returning-a-view-versus-a-copy\n",
      "  A2_data[['死亡','受傷']] = A2_data['死亡受傷人數'].str.split(';', expand=True)\n",
      "/var/folders/6d/ds7n9s6d4hg1t4dlgvtpv97w0000gn/T/ipykernel_18543/1419529913.py:2: SettingWithCopyWarning: \n",
      "A value is trying to be set on a copy of a slice from a DataFrame.\n",
      "Try using .loc[row_indexer,col_indexer] = value instead\n",
      "\n",
      "See the caveats in the documentation: https://pandas.pydata.org/pandas-docs/stable/user_guide/indexing.html#returning-a-view-versus-a-copy\n",
      "  A2_data['死亡'] = A2_data['死亡'].apply(lambda x: re.sub('[^\\d]+', '', x))\n",
      "/var/folders/6d/ds7n9s6d4hg1t4dlgvtpv97w0000gn/T/ipykernel_18543/1419529913.py:3: SettingWithCopyWarning: \n",
      "A value is trying to be set on a copy of a slice from a DataFrame.\n",
      "Try using .loc[row_indexer,col_indexer] = value instead\n",
      "\n",
      "See the caveats in the documentation: https://pandas.pydata.org/pandas-docs/stable/user_guide/indexing.html#returning-a-view-versus-a-copy\n",
      "  A2_data['受傷'] = A2_data['受傷'].apply(lambda x: re.sub('[^\\d]+', '', x))\n",
      "/var/folders/6d/ds7n9s6d4hg1t4dlgvtpv97w0000gn/T/ipykernel_18543/1419529913.py:4: SettingWithCopyWarning: \n",
      "A value is trying to be set on a copy of a slice from a DataFrame\n",
      "\n",
      "See the caveats in the documentation: https://pandas.pydata.org/pandas-docs/stable/user_guide/indexing.html#returning-a-view-versus-a-copy\n",
      "  A2_data.drop(columns=['死亡受傷人數'], inplace=True)\n"
     ]
    }
   ],
   "source": [
    "A2_data[['死亡','受傷']] = A2_data['死亡受傷人數'].str.split(';', expand=True)\n",
    "A2_data['死亡'] = A2_data['死亡'].apply(lambda x: re.sub('[^\\d]+', '', x))\n",
    "A2_data['受傷'] = A2_data['受傷'].apply(lambda x: re.sub('[^\\d]+', '', x))\n",
    "A2_data.drop(columns=['死亡受傷人數'], inplace=True)"
   ]
  },
  {
   "cell_type": "code",
   "execution_count": 22,
   "metadata": {},
   "outputs": [
    {
     "name": "stderr",
     "output_type": "stream",
     "text": [
      "/var/folders/6d/ds7n9s6d4hg1t4dlgvtpv97w0000gn/T/ipykernel_18543/850537944.py:1: SettingWithCopyWarning: \n",
      "A value is trying to be set on a copy of a slice from a DataFrame.\n",
      "Try using .loc[row_indexer,col_indexer] = value instead\n",
      "\n",
      "See the caveats in the documentation: https://pandas.pydata.org/pandas-docs/stable/user_guide/indexing.html#returning-a-view-versus-a-copy\n",
      "  A2_data[\"發生日期\"] = pd.to_datetime(A2_data[\"發生日期\"], format='%Y%m%d').dt.date\n"
     ]
    }
   ],
   "source": [
    "A2_data[\"發生日期\"] = pd.to_datetime(A2_data[\"發生日期\"], format='%Y%m%d').dt.date"
   ]
  },
  {
   "cell_type": "code",
   "execution_count": 25,
   "metadata": {},
   "outputs": [],
   "source": [
    "A2_data = A2_data.reindex(columns=[\"發生日期\", \"當事者區分-類別-大類別名稱-車種\", \"當事者區分-類別-子類別名稱-車種\", \"當事者屬-性-別名稱\", \"死亡\", \"受傷\", \"經度\", \"緯度\"])"
   ]
  },
  {
   "cell_type": "code",
   "execution_count": 26,
   "metadata": {},
   "outputs": [],
   "source": [
    "A2_data.columns = ['date', 'car_1', 'car_2', 'gender', 'death', 'injury', 'lng', 'lat']"
   ]
  },
  {
   "cell_type": "code",
   "execution_count": 27,
   "metadata": {},
   "outputs": [
    {
     "data": {
      "text/html": [
       "<div>\n",
       "<style scoped>\n",
       "    .dataframe tbody tr th:only-of-type {\n",
       "        vertical-align: middle;\n",
       "    }\n",
       "\n",
       "    .dataframe tbody tr th {\n",
       "        vertical-align: top;\n",
       "    }\n",
       "\n",
       "    .dataframe thead th {\n",
       "        text-align: right;\n",
       "    }\n",
       "</style>\n",
       "<table border=\"1\" class=\"dataframe\">\n",
       "  <thead>\n",
       "    <tr style=\"text-align: right;\">\n",
       "      <th></th>\n",
       "      <th>date</th>\n",
       "      <th>car_1</th>\n",
       "      <th>car_2</th>\n",
       "      <th>gender</th>\n",
       "      <th>death</th>\n",
       "      <th>injury</th>\n",
       "      <th>lng</th>\n",
       "      <th>lat</th>\n",
       "    </tr>\n",
       "  </thead>\n",
       "  <tbody>\n",
       "    <tr>\n",
       "      <th>0</th>\n",
       "      <td>2018-04-01</td>\n",
       "      <td>機車</td>\n",
       "      <td>普通重型</td>\n",
       "      <td>男</td>\n",
       "      <td>0</td>\n",
       "      <td>1</td>\n",
       "      <td>121.531664</td>\n",
       "      <td>24.970048</td>\n",
       "    </tr>\n",
       "    <tr>\n",
       "      <th>1</th>\n",
       "      <td>2018-04-01</td>\n",
       "      <td>機車</td>\n",
       "      <td>普通重型</td>\n",
       "      <td>女</td>\n",
       "      <td>0</td>\n",
       "      <td>1</td>\n",
       "      <td>121.531664</td>\n",
       "      <td>24.970048</td>\n",
       "    </tr>\n",
       "    <tr>\n",
       "      <th>2</th>\n",
       "      <td>2018-04-01</td>\n",
       "      <td>小客車</td>\n",
       "      <td>自用</td>\n",
       "      <td>女</td>\n",
       "      <td>0</td>\n",
       "      <td>1</td>\n",
       "      <td>120.305153</td>\n",
       "      <td>22.619220</td>\n",
       "    </tr>\n",
       "    <tr>\n",
       "      <th>3</th>\n",
       "      <td>2018-04-01</td>\n",
       "      <td>機車</td>\n",
       "      <td>普通重型</td>\n",
       "      <td>男</td>\n",
       "      <td>0</td>\n",
       "      <td>1</td>\n",
       "      <td>120.305153</td>\n",
       "      <td>22.619220</td>\n",
       "    </tr>\n",
       "    <tr>\n",
       "      <th>4</th>\n",
       "      <td>2018-04-01</td>\n",
       "      <td>機車</td>\n",
       "      <td>普通重型</td>\n",
       "      <td>男</td>\n",
       "      <td>0</td>\n",
       "      <td>1</td>\n",
       "      <td>120.579711</td>\n",
       "      <td>23.859606</td>\n",
       "    </tr>\n",
       "    <tr>\n",
       "      <th>...</th>\n",
       "      <td>...</td>\n",
       "      <td>...</td>\n",
       "      <td>...</td>\n",
       "      <td>...</td>\n",
       "      <td>...</td>\n",
       "      <td>...</td>\n",
       "      <td>...</td>\n",
       "      <td>...</td>\n",
       "    </tr>\n",
       "    <tr>\n",
       "      <th>3652651</th>\n",
       "      <td>2022-06-30</td>\n",
       "      <td>機車</td>\n",
       "      <td>普通重型</td>\n",
       "      <td>女</td>\n",
       "      <td>0</td>\n",
       "      <td>1</td>\n",
       "      <td>121.482941</td>\n",
       "      <td>25.050892</td>\n",
       "    </tr>\n",
       "    <tr>\n",
       "      <th>3652652</th>\n",
       "      <td>2022-06-30</td>\n",
       "      <td>機車</td>\n",
       "      <td>普通重型</td>\n",
       "      <td>男</td>\n",
       "      <td>0</td>\n",
       "      <td>1</td>\n",
       "      <td>121.482941</td>\n",
       "      <td>25.050892</td>\n",
       "    </tr>\n",
       "    <tr>\n",
       "      <th>3652653</th>\n",
       "      <td>2022-06-30</td>\n",
       "      <td>機車</td>\n",
       "      <td>普通重型</td>\n",
       "      <td>男</td>\n",
       "      <td>0</td>\n",
       "      <td>3</td>\n",
       "      <td>121.617878</td>\n",
       "      <td>25.065808</td>\n",
       "    </tr>\n",
       "    <tr>\n",
       "      <th>3652654</th>\n",
       "      <td>2022-06-30</td>\n",
       "      <td>機車</td>\n",
       "      <td>普通重型</td>\n",
       "      <td>男</td>\n",
       "      <td>0</td>\n",
       "      <td>3</td>\n",
       "      <td>121.617878</td>\n",
       "      <td>25.065808</td>\n",
       "    </tr>\n",
       "    <tr>\n",
       "      <th>3652655</th>\n",
       "      <td>2022-06-30</td>\n",
       "      <td>人</td>\n",
       "      <td>乘客</td>\n",
       "      <td>男</td>\n",
       "      <td>0</td>\n",
       "      <td>3</td>\n",
       "      <td>121.617878</td>\n",
       "      <td>25.065808</td>\n",
       "    </tr>\n",
       "  </tbody>\n",
       "</table>\n",
       "<p>3652546 rows × 8 columns</p>\n",
       "</div>"
      ],
      "text/plain": [
       "               date car_1 car_2 gender death injury         lng        lat\n",
       "0        2018-04-01    機車  普通重型      男     0      1  121.531664  24.970048\n",
       "1        2018-04-01    機車  普通重型      女     0      1  121.531664  24.970048\n",
       "2        2018-04-01   小客車    自用      女     0      1  120.305153  22.619220\n",
       "3        2018-04-01    機車  普通重型      男     0      1  120.305153  22.619220\n",
       "4        2018-04-01    機車  普通重型      男     0      1  120.579711  23.859606\n",
       "...             ...   ...   ...    ...   ...    ...         ...        ...\n",
       "3652651  2022-06-30    機車  普通重型      女     0      1  121.482941  25.050892\n",
       "3652652  2022-06-30    機車  普通重型      男     0      1  121.482941  25.050892\n",
       "3652653  2022-06-30    機車  普通重型      男     0      3  121.617878  25.065808\n",
       "3652654  2022-06-30    機車  普通重型      男     0      3  121.617878  25.065808\n",
       "3652655  2022-06-30     人    乘客      男     0      3  121.617878  25.065808\n",
       "\n",
       "[3652546 rows x 8 columns]"
      ]
     },
     "execution_count": 27,
     "metadata": {},
     "output_type": "execute_result"
    }
   ],
   "source": [
    "A2_data"
   ]
  },
  {
   "attachments": {},
   "cell_type": "markdown",
   "metadata": {},
   "source": [
    "## 匯出檔案"
   ]
  },
  {
   "cell_type": "code",
   "execution_count": 28,
   "metadata": {},
   "outputs": [],
   "source": [
    "A2_data.to_csv(\"/Users/guoyanting/Desktop/NTUDAC/專案/Gogoro/rawData/traffic_accident/traffic_accident_A2/traffic_accident_A2.csv\",index=False)"
   ]
  },
  {
   "cell_type": "code",
   "execution_count": 29,
   "metadata": {},
   "outputs": [],
   "source": [
    "# 建立 GeoDataFrame\n",
    "gdf = gpd.GeoDataFrame(\n",
    "    A2_data, geometry=gpd.points_from_xy(A2_data['lng'], A2_data['lat']))\n",
    "\n",
    "# 轉換座標系統，這裡以 EPSG 4326 為例\n",
    "gdf = gdf.set_crs(epsg=4326)"
   ]
  },
  {
   "cell_type": "code",
   "execution_count": 31,
   "metadata": {},
   "outputs": [],
   "source": [
    "gdf['date'] = gdf['date'].astype('str')"
   ]
  },
  {
   "cell_type": "code",
   "execution_count": 32,
   "metadata": {},
   "outputs": [],
   "source": [
    "# 存成 Shapefile 檔案\n",
    "gdf.to_file('/Users/guoyanting/Desktop/NTUDAC/專案/Gogoro/rawData/traffic_accident/traffic_accident_A2/traffic_accident_A2.shp',\n",
    "            driver='ESRI Shapefile',\n",
    "            encoding='utf-8')"
   ]
  }
 ],
 "metadata": {
  "kernelspec": {
   "display_name": "Python 3",
   "language": "python",
   "name": "python3"
  },
  "language_info": {
   "codemirror_mode": {
    "name": "ipython",
    "version": 3
   },
   "file_extension": ".py",
   "mimetype": "text/x-python",
   "name": "python",
   "nbconvert_exporter": "python",
   "pygments_lexer": "ipython3",
   "version": "3.9.7"
  },
  "orig_nbformat": 4,
  "vscode": {
   "interpreter": {
    "hash": "aee8b7b246df8f9039afb4144a1f6fd8d2ca17a180786b69acc140d282b71a49"
   }
  }
 },
 "nbformat": 4,
 "nbformat_minor": 2
}
