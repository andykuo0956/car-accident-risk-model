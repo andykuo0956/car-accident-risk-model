{
 "cells": [
  {
   "cell_type": "code",
   "execution_count": 7,
   "metadata": {},
   "outputs": [],
   "source": [
    "import pandas as py\n",
    "import geopandas as gpd\n",
    "from shapely.geometry import Point\n",
    "from shapely.ops import cascaded_union\n",
    "import folium\n",
    "from shapely.geometry import Polygon"
   ]
  },
  {
   "attachments": {},
   "cell_type": "markdown",
   "metadata": {},
   "source": [
    "## A1 資料整理"
   ]
  },
  {
   "cell_type": "code",
   "execution_count": 2,
   "metadata": {},
   "outputs": [],
   "source": [
    "accidents_gdf_rawData = gpd.read_file(\"/Users/guoyanting/Desktop/NTUDAC/專案/Gogoro/rawData/traffic_accident/traffic_accident_A1/traffic_accident_A1.shp\")"
   ]
  },
  {
   "cell_type": "code",
   "execution_count": 15,
   "metadata": {},
   "outputs": [],
   "source": [
    "A1_traffic_accident_simple = gpd.GeoDataFrame(columns=['danger_value', 'geometry'])\n",
    "A1_traffic_accident_simple.crs = \"EPSG:4326\""
   ]
  },
  {
   "cell_type": "code",
   "execution_count": 38,
   "metadata": {},
   "outputs": [
    {
     "data": {
      "text/html": [
       "<div>\n",
       "<style scoped>\n",
       "    .dataframe tbody tr th:only-of-type {\n",
       "        vertical-align: middle;\n",
       "    }\n",
       "\n",
       "    .dataframe tbody tr th {\n",
       "        vertical-align: top;\n",
       "    }\n",
       "\n",
       "    .dataframe thead th {\n",
       "        text-align: right;\n",
       "    }\n",
       "</style>\n",
       "<table border=\"1\" class=\"dataframe\">\n",
       "  <thead>\n",
       "    <tr style=\"text-align: right;\">\n",
       "      <th></th>\n",
       "      <th>date</th>\n",
       "      <th>car_1</th>\n",
       "      <th>car_2</th>\n",
       "      <th>gender</th>\n",
       "      <th>death</th>\n",
       "      <th>injury</th>\n",
       "      <th>lng</th>\n",
       "      <th>lat</th>\n",
       "      <th>geometry</th>\n",
       "    </tr>\n",
       "  </thead>\n",
       "  <tbody>\n",
       "    <tr>\n",
       "      <th>0</th>\n",
       "      <td>20180101</td>\n",
       "      <td>小客車</td>\n",
       "      <td>自用</td>\n",
       "      <td>男</td>\n",
       "      <td>1</td>\n",
       "      <td>0</td>\n",
       "      <td>120.578892</td>\n",
       "      <td>23.962235</td>\n",
       "      <td>POINT (120.57889 23.96223)</td>\n",
       "    </tr>\n",
       "    <tr>\n",
       "      <th>1</th>\n",
       "      <td>20180101</td>\n",
       "      <td>慢車</td>\n",
       "      <td>腳踏自行車</td>\n",
       "      <td>男</td>\n",
       "      <td>1</td>\n",
       "      <td>0</td>\n",
       "      <td>120.578892</td>\n",
       "      <td>23.962235</td>\n",
       "      <td>POINT (120.57889 23.96223)</td>\n",
       "    </tr>\n",
       "    <tr>\n",
       "      <th>2</th>\n",
       "      <td>20180101</td>\n",
       "      <td>None</td>\n",
       "      <td>None</td>\n",
       "      <td>無或物(動物、堆置物)</td>\n",
       "      <td>1</td>\n",
       "      <td>0</td>\n",
       "      <td>121.244920</td>\n",
       "      <td>25.036777</td>\n",
       "      <td>POINT (121.24492 25.03678)</td>\n",
       "    </tr>\n",
       "    <tr>\n",
       "      <th>3</th>\n",
       "      <td>20180101</td>\n",
       "      <td>機車</td>\n",
       "      <td>普通輕型</td>\n",
       "      <td>男</td>\n",
       "      <td>1</td>\n",
       "      <td>0</td>\n",
       "      <td>121.244920</td>\n",
       "      <td>25.036777</td>\n",
       "      <td>POINT (121.24492 25.03678)</td>\n",
       "    </tr>\n",
       "    <tr>\n",
       "      <th>4</th>\n",
       "      <td>20180101</td>\n",
       "      <td>None</td>\n",
       "      <td>None</td>\n",
       "      <td>無或物(動物、堆置物)</td>\n",
       "      <td>1</td>\n",
       "      <td>3</td>\n",
       "      <td>120.861178</td>\n",
       "      <td>24.682004</td>\n",
       "      <td>POINT (120.86118 24.68200)</td>\n",
       "    </tr>\n",
       "    <tr>\n",
       "      <th>...</th>\n",
       "      <td>...</td>\n",
       "      <td>...</td>\n",
       "      <td>...</td>\n",
       "      <td>...</td>\n",
       "      <td>...</td>\n",
       "      <td>...</td>\n",
       "      <td>...</td>\n",
       "      <td>...</td>\n",
       "      <td>...</td>\n",
       "    </tr>\n",
       "    <tr>\n",
       "      <th>23007</th>\n",
       "      <td>20230319</td>\n",
       "      <td>機車</td>\n",
       "      <td>普通輕型</td>\n",
       "      <td>男</td>\n",
       "      <td>1</td>\n",
       "      <td>2</td>\n",
       "      <td>121.534909</td>\n",
       "      <td>25.014082</td>\n",
       "      <td>POINT (121.53491 25.01408)</td>\n",
       "    </tr>\n",
       "    <tr>\n",
       "      <th>23008</th>\n",
       "      <td>20230319</td>\n",
       "      <td>人</td>\n",
       "      <td>行人</td>\n",
       "      <td>男</td>\n",
       "      <td>1</td>\n",
       "      <td>2</td>\n",
       "      <td>121.534909</td>\n",
       "      <td>25.014082</td>\n",
       "      <td>POINT (121.53491 25.01408)</td>\n",
       "    </tr>\n",
       "    <tr>\n",
       "      <th>23009</th>\n",
       "      <td>20230319</td>\n",
       "      <td>人</td>\n",
       "      <td>乘客</td>\n",
       "      <td>女</td>\n",
       "      <td>1</td>\n",
       "      <td>2</td>\n",
       "      <td>121.534909</td>\n",
       "      <td>25.014082</td>\n",
       "      <td>POINT (121.53491 25.01408)</td>\n",
       "    </tr>\n",
       "    <tr>\n",
       "      <th>23010</th>\n",
       "      <td>20230320</td>\n",
       "      <td>機車</td>\n",
       "      <td>普通重型</td>\n",
       "      <td>男</td>\n",
       "      <td>1</td>\n",
       "      <td>0</td>\n",
       "      <td>120.321991</td>\n",
       "      <td>23.774329</td>\n",
       "      <td>POINT (120.32199 23.77433)</td>\n",
       "    </tr>\n",
       "    <tr>\n",
       "      <th>23011</th>\n",
       "      <td>20230320</td>\n",
       "      <td>None</td>\n",
       "      <td>None</td>\n",
       "      <td>無或物(動物、堆置物)</td>\n",
       "      <td>1</td>\n",
       "      <td>0</td>\n",
       "      <td>120.321991</td>\n",
       "      <td>23.774329</td>\n",
       "      <td>POINT (120.32199 23.77433)</td>\n",
       "    </tr>\n",
       "  </tbody>\n",
       "</table>\n",
       "<p>23012 rows × 9 columns</p>\n",
       "</div>"
      ],
      "text/plain": [
       "           date car_1  car_2       gender death injury         lng        lat  \\\n",
       "0      20180101   小客車     自用            男     1      0  120.578892  23.962235   \n",
       "1      20180101    慢車  腳踏自行車            男     1      0  120.578892  23.962235   \n",
       "2      20180101  None   None  無或物(動物、堆置物)     1      0  121.244920  25.036777   \n",
       "3      20180101    機車   普通輕型            男     1      0  121.244920  25.036777   \n",
       "4      20180101  None   None  無或物(動物、堆置物)     1      3  120.861178  24.682004   \n",
       "...         ...   ...    ...          ...   ...    ...         ...        ...   \n",
       "23007  20230319    機車   普通輕型            男     1      2  121.534909  25.014082   \n",
       "23008  20230319     人     行人            男     1      2  121.534909  25.014082   \n",
       "23009  20230319     人     乘客            女     1      2  121.534909  25.014082   \n",
       "23010  20230320    機車   普通重型            男     1      0  120.321991  23.774329   \n",
       "23011  20230320  None   None  無或物(動物、堆置物)     1      0  120.321991  23.774329   \n",
       "\n",
       "                         geometry  \n",
       "0      POINT (120.57889 23.96223)  \n",
       "1      POINT (120.57889 23.96223)  \n",
       "2      POINT (121.24492 25.03678)  \n",
       "3      POINT (121.24492 25.03678)  \n",
       "4      POINT (120.86118 24.68200)  \n",
       "...                           ...  \n",
       "23007  POINT (121.53491 25.01408)  \n",
       "23008  POINT (121.53491 25.01408)  \n",
       "23009  POINT (121.53491 25.01408)  \n",
       "23010  POINT (120.32199 23.77433)  \n",
       "23011  POINT (120.32199 23.77433)  \n",
       "\n",
       "[23012 rows x 9 columns]"
      ]
     },
     "execution_count": 38,
     "metadata": {},
     "output_type": "execute_result"
    }
   ],
   "source": [
    "accidents_gdf_rawData"
   ]
  },
  {
   "cell_type": "code",
   "execution_count": 44,
   "metadata": {},
   "outputs": [],
   "source": [
    "A1_traffic_accident_simple = accidents_gdf_rawData[accidents_gdf_rawData['car_1'] == '機車']"
   ]
  },
  {
   "cell_type": "code",
   "execution_count": 54,
   "metadata": {},
   "outputs": [
    {
     "name": "stderr",
     "output_type": "stream",
     "text": [
      "/Users/guoyanting/Library/Python/3.9/lib/python/site-packages/geopandas/geodataframe.py:1443: SettingWithCopyWarning: \n",
      "A value is trying to be set on a copy of a slice from a DataFrame.\n",
      "Try using .loc[row_indexer,col_indexer] = value instead\n",
      "\n",
      "See the caveats in the documentation: https://pandas.pydata.org/pandas-docs/stable/user_guide/indexing.html#returning-a-view-versus-a-copy\n",
      "  super().__setitem__(key, value)\n"
     ]
    }
   ],
   "source": [
    "A1_traffic_accident_simple['danger_value'] = A1_traffic_accident_simple['death'].astype(int)*10 + A1_traffic_accident_simple['injury'].astype(int)"
   ]
  },
  {
   "cell_type": "code",
   "execution_count": 56,
   "metadata": {},
   "outputs": [],
   "source": [
    "A1_traffic_accident_simple = A1_traffic_accident_simple[['danger_value','geometry']]"
   ]
  },
  {
   "cell_type": "code",
   "execution_count": 57,
   "metadata": {},
   "outputs": [
    {
     "data": {
      "text/html": [
       "<div>\n",
       "<style scoped>\n",
       "    .dataframe tbody tr th:only-of-type {\n",
       "        vertical-align: middle;\n",
       "    }\n",
       "\n",
       "    .dataframe tbody tr th {\n",
       "        vertical-align: top;\n",
       "    }\n",
       "\n",
       "    .dataframe thead th {\n",
       "        text-align: right;\n",
       "    }\n",
       "</style>\n",
       "<table border=\"1\" class=\"dataframe\">\n",
       "  <thead>\n",
       "    <tr style=\"text-align: right;\">\n",
       "      <th></th>\n",
       "      <th>danger_value</th>\n",
       "      <th>geometry</th>\n",
       "    </tr>\n",
       "  </thead>\n",
       "  <tbody>\n",
       "    <tr>\n",
       "      <th>3</th>\n",
       "      <td>10</td>\n",
       "      <td>POINT (121.24492 25.03678)</td>\n",
       "    </tr>\n",
       "    <tr>\n",
       "      <th>9</th>\n",
       "      <td>10</td>\n",
       "      <td>POINT (120.77116 23.82721)</td>\n",
       "    </tr>\n",
       "    <tr>\n",
       "      <th>15</th>\n",
       "      <td>10</td>\n",
       "      <td>POINT (120.45893 23.70092)</td>\n",
       "    </tr>\n",
       "    <tr>\n",
       "      <th>18</th>\n",
       "      <td>11</td>\n",
       "      <td>POINT (121.21952 24.95953)</td>\n",
       "    </tr>\n",
       "    <tr>\n",
       "      <th>19</th>\n",
       "      <td>10</td>\n",
       "      <td>POINT (121.37125 24.92364)</td>\n",
       "    </tr>\n",
       "    <tr>\n",
       "      <th>...</th>\n",
       "      <td>...</td>\n",
       "      <td>...</td>\n",
       "    </tr>\n",
       "    <tr>\n",
       "      <th>22999</th>\n",
       "      <td>10</td>\n",
       "      <td>POINT (121.44845 24.92782)</td>\n",
       "    </tr>\n",
       "    <tr>\n",
       "      <th>23002</th>\n",
       "      <td>11</td>\n",
       "      <td>POINT (121.53711 25.05376)</td>\n",
       "    </tr>\n",
       "    <tr>\n",
       "      <th>23005</th>\n",
       "      <td>12</td>\n",
       "      <td>POINT (120.59163 23.35763)</td>\n",
       "    </tr>\n",
       "    <tr>\n",
       "      <th>23007</th>\n",
       "      <td>12</td>\n",
       "      <td>POINT (121.53491 25.01408)</td>\n",
       "    </tr>\n",
       "    <tr>\n",
       "      <th>23010</th>\n",
       "      <td>10</td>\n",
       "      <td>POINT (120.32199 23.77433)</td>\n",
       "    </tr>\n",
       "  </tbody>\n",
       "</table>\n",
       "<p>7443 rows × 2 columns</p>\n",
       "</div>"
      ],
      "text/plain": [
       "       danger_value                    geometry\n",
       "3                10  POINT (121.24492 25.03678)\n",
       "9                10  POINT (120.77116 23.82721)\n",
       "15               10  POINT (120.45893 23.70092)\n",
       "18               11  POINT (121.21952 24.95953)\n",
       "19               10  POINT (121.37125 24.92364)\n",
       "...             ...                         ...\n",
       "22999            10  POINT (121.44845 24.92782)\n",
       "23002            11  POINT (121.53711 25.05376)\n",
       "23005            12  POINT (120.59163 23.35763)\n",
       "23007            12  POINT (121.53491 25.01408)\n",
       "23010            10  POINT (120.32199 23.77433)\n",
       "\n",
       "[7443 rows x 2 columns]"
      ]
     },
     "execution_count": 57,
     "metadata": {},
     "output_type": "execute_result"
    }
   ],
   "source": [
    "A1_traffic_accident_simple"
   ]
  },
  {
   "attachments": {},
   "cell_type": "markdown",
   "metadata": {},
   "source": [
    "死亡與受傷危險值比例計算以強制險給付金額上限計算為 10：1  \n",
    "給付範圍：傷害醫療費用（每人）最高20萬、失能或死亡定額給付（每人）最高200萬，合計每人最高賠償額度為220萬"
   ]
  },
  {
   "cell_type": "code",
   "execution_count": 58,
   "metadata": {},
   "outputs": [
    {
     "name": "stderr",
     "output_type": "stream",
     "text": [
      "/var/folders/6d/ds7n9s6d4hg1t4dlgvtpv97w0000gn/T/ipykernel_7523/1613020421.py:1: UserWarning: Column names longer than 10 characters will be truncated when saved to ESRI Shapefile.\n",
      "  A1_traffic_accident_simple.to_file('/Users/guoyanting/Desktop/NTUDAC/專案/Gogoro/rawData/traffic_accident/traffic_accident_A1/A1_simple/A1_simple.shp',\n"
     ]
    }
   ],
   "source": [
    "A1_traffic_accident_simple.to_file('/Users/guoyanting/Desktop/NTUDAC/專案/Gogoro/rawData/traffic_accident/traffic_accident_A1/A1_simple/A1_simple.shp',\n",
    "            driver='ESRI Shapefile',\n",
    "            encoding='utf-8')"
   ]
  },
  {
   "attachments": {},
   "cell_type": "markdown",
   "metadata": {},
   "source": [
    "## A2 資料整理"
   ]
  },
  {
   "cell_type": "code",
   "execution_count": 14,
   "metadata": {},
   "outputs": [],
   "source": [
    "accidents_gdf_rawData_A2 = gpd.read_file(\"/Users/guoyanting/Desktop/NTUDAC/專案/Gogoro/rawData/traffic_accident/traffic_accident_A2/traffic_accident_A2.shp\")"
   ]
  },
  {
   "cell_type": "code",
   "execution_count": 59,
   "metadata": {},
   "outputs": [],
   "source": [
    "A2_traffic_accident_simple = gpd.GeoDataFrame(columns=['danger_value', 'geometry'])\n",
    "A2_traffic_accident_simple.crs = \"EPSG:4326\""
   ]
  },
  {
   "cell_type": "code",
   "execution_count": 61,
   "metadata": {},
   "outputs": [],
   "source": [
    "A2_traffic_accident_simple = accidents_gdf_rawData_A2[accidents_gdf_rawData_A2['car_1'] == '機車']"
   ]
  },
  {
   "cell_type": "code",
   "execution_count": 63,
   "metadata": {},
   "outputs": [
    {
     "name": "stderr",
     "output_type": "stream",
     "text": [
      "/Users/guoyanting/Library/Python/3.9/lib/python/site-packages/geopandas/geodataframe.py:1443: SettingWithCopyWarning: \n",
      "A value is trying to be set on a copy of a slice from a DataFrame.\n",
      "Try using .loc[row_indexer,col_indexer] = value instead\n",
      "\n",
      "See the caveats in the documentation: https://pandas.pydata.org/pandas-docs/stable/user_guide/indexing.html#returning-a-view-versus-a-copy\n",
      "  super().__setitem__(key, value)\n"
     ]
    }
   ],
   "source": [
    "A2_traffic_accident_simple['danger_value'] = A2_traffic_accident_simple['injury'].astype(int)"
   ]
  },
  {
   "cell_type": "code",
   "execution_count": 64,
   "metadata": {},
   "outputs": [],
   "source": [
    "A2_traffic_accident_simple = A2_traffic_accident_simple[['danger_value','geometry']]"
   ]
  },
  {
   "cell_type": "code",
   "execution_count": 65,
   "metadata": {},
   "outputs": [
    {
     "data": {
      "text/html": [
       "<div>\n",
       "<style scoped>\n",
       "    .dataframe tbody tr th:only-of-type {\n",
       "        vertical-align: middle;\n",
       "    }\n",
       "\n",
       "    .dataframe tbody tr th {\n",
       "        vertical-align: top;\n",
       "    }\n",
       "\n",
       "    .dataframe thead th {\n",
       "        text-align: right;\n",
       "    }\n",
       "</style>\n",
       "<table border=\"1\" class=\"dataframe\">\n",
       "  <thead>\n",
       "    <tr style=\"text-align: right;\">\n",
       "      <th></th>\n",
       "      <th>danger_value</th>\n",
       "      <th>geometry</th>\n",
       "    </tr>\n",
       "  </thead>\n",
       "  <tbody>\n",
       "    <tr>\n",
       "      <th>0</th>\n",
       "      <td>1</td>\n",
       "      <td>POINT (121.53166 24.97005)</td>\n",
       "    </tr>\n",
       "    <tr>\n",
       "      <th>1</th>\n",
       "      <td>1</td>\n",
       "      <td>POINT (121.53166 24.97005)</td>\n",
       "    </tr>\n",
       "    <tr>\n",
       "      <th>3</th>\n",
       "      <td>1</td>\n",
       "      <td>POINT (120.30515 22.61922)</td>\n",
       "    </tr>\n",
       "    <tr>\n",
       "      <th>4</th>\n",
       "      <td>1</td>\n",
       "      <td>POINT (120.57971 23.85961)</td>\n",
       "    </tr>\n",
       "    <tr>\n",
       "      <th>6</th>\n",
       "      <td>1</td>\n",
       "      <td>POINT (121.32937 24.96879)</td>\n",
       "    </tr>\n",
       "    <tr>\n",
       "      <th>...</th>\n",
       "      <td>...</td>\n",
       "      <td>...</td>\n",
       "    </tr>\n",
       "    <tr>\n",
       "      <th>3652540</th>\n",
       "      <td>2</td>\n",
       "      <td>POINT (120.56089 22.69464)</td>\n",
       "    </tr>\n",
       "    <tr>\n",
       "      <th>3652541</th>\n",
       "      <td>1</td>\n",
       "      <td>POINT (121.48294 25.05089)</td>\n",
       "    </tr>\n",
       "    <tr>\n",
       "      <th>3652542</th>\n",
       "      <td>1</td>\n",
       "      <td>POINT (121.48294 25.05089)</td>\n",
       "    </tr>\n",
       "    <tr>\n",
       "      <th>3652543</th>\n",
       "      <td>3</td>\n",
       "      <td>POINT (121.61788 25.06581)</td>\n",
       "    </tr>\n",
       "    <tr>\n",
       "      <th>3652544</th>\n",
       "      <td>3</td>\n",
       "      <td>POINT (121.61788 25.06581)</td>\n",
       "    </tr>\n",
       "  </tbody>\n",
       "</table>\n",
       "<p>1955847 rows × 2 columns</p>\n",
       "</div>"
      ],
      "text/plain": [
       "         danger_value                    geometry\n",
       "0                   1  POINT (121.53166 24.97005)\n",
       "1                   1  POINT (121.53166 24.97005)\n",
       "3                   1  POINT (120.30515 22.61922)\n",
       "4                   1  POINT (120.57971 23.85961)\n",
       "6                   1  POINT (121.32937 24.96879)\n",
       "...               ...                         ...\n",
       "3652540             2  POINT (120.56089 22.69464)\n",
       "3652541             1  POINT (121.48294 25.05089)\n",
       "3652542             1  POINT (121.48294 25.05089)\n",
       "3652543             3  POINT (121.61788 25.06581)\n",
       "3652544             3  POINT (121.61788 25.06581)\n",
       "\n",
       "[1955847 rows x 2 columns]"
      ]
     },
     "execution_count": 65,
     "metadata": {},
     "output_type": "execute_result"
    }
   ],
   "source": [
    "A2_traffic_accident_simple"
   ]
  },
  {
   "cell_type": "code",
   "execution_count": 66,
   "metadata": {},
   "outputs": [
    {
     "name": "stderr",
     "output_type": "stream",
     "text": [
      "/var/folders/6d/ds7n9s6d4hg1t4dlgvtpv97w0000gn/T/ipykernel_7523/3260895465.py:1: UserWarning: Column names longer than 10 characters will be truncated when saved to ESRI Shapefile.\n",
      "  A2_traffic_accident_simple.to_file('/Users/guoyanting/Desktop/NTUDAC/專案/Gogoro/rawData/traffic_accident/traffic_accident_A2/A2_simple/A2_simple.shp',\n"
     ]
    }
   ],
   "source": [
    "A2_traffic_accident_simple.to_file('/Users/guoyanting/Desktop/NTUDAC/專案/Gogoro/rawData/traffic_accident/traffic_accident_A2/A2_simple/A2_simple.shp',\n",
    "            driver='ESRI Shapefile',\n",
    "            encoding='utf-8')"
   ]
  }
 ],
 "metadata": {
  "kernelspec": {
   "display_name": "Python 3",
   "language": "python",
   "name": "python3"
  },
  "language_info": {
   "codemirror_mode": {
    "name": "ipython",
    "version": 3
   },
   "file_extension": ".py",
   "mimetype": "text/x-python",
   "name": "python",
   "nbconvert_exporter": "python",
   "pygments_lexer": "ipython3",
   "version": "3.9.7"
  },
  "orig_nbformat": 4
 },
 "nbformat": 4,
 "nbformat_minor": 2
}
